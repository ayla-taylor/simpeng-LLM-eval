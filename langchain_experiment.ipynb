{
 "cells": [
  {
   "cell_type": "code",
   "execution_count": 1,
   "id": "fa48e738-e72d-4e00-a682-038c2c1ae903",
   "metadata": {},
   "outputs": [
    {
     "ename": "ModuleNotFoundError",
     "evalue": "No module named 'langchain'",
     "output_type": "error",
     "traceback": [
      "\u001b[1;31m---------------------------------------------------------------------------\u001b[0m",
      "\u001b[1;31mModuleNotFoundError\u001b[0m                       Traceback (most recent call last)",
      "Cell \u001b[1;32mIn[1], line 1\u001b[0m\n\u001b[1;32m----> 1\u001b[0m \u001b[38;5;28;01mfrom\u001b[39;00m\u001b[38;5;250m \u001b[39m\u001b[38;5;21;01mlangchain\u001b[39;00m\u001b[38;5;21;01m.\u001b[39;00m\u001b[38;5;21;01mchains\u001b[39;00m\u001b[38;5;21;01m.\u001b[39;00m\u001b[38;5;21;01msummarize\u001b[39;00m\u001b[38;5;250m \u001b[39m\u001b[38;5;28;01mimport\u001b[39;00m load_summarize_chain\n\u001b[0;32m      2\u001b[0m \u001b[38;5;28;01mimport\u001b[39;00m\u001b[38;5;250m \u001b[39m\u001b[38;5;21;01mtextwrap\u001b[39;00m\n",
      "\u001b[1;31mModuleNotFoundError\u001b[0m: No module named 'langchain'"
     ]
    }
   ],
   "source": [
    "import textwrap\n",
    "import os\n",
    "\n",
    "import transformers\n",
    "from transformers import BitsAndBytesConfig, AutoTokenizer, AutoModelForCausalLM\n",
    "from langchain_huggingface import HuggingFacePipeline\n",
    "from langchain.chains.summarize import load_summarize_chain\n",
    "\n",
    "import torch\n"
   ]
  },
  {
   "cell_type": "code",
   "execution_count": null,
   "id": "965c1ce9-9d32-4f2c-ac14-eefd519c3c98",
   "metadata": {},
   "outputs": [],
   "source": [
    "    device = 'cuda' if torch.cuda.is_available() else None\n",
    "    if device:\n",
    "        print(f\"Using {torch.cuda.get_device_name(0)}\")\n",
    "    bitsquant_config = BitsAndBytesConfig(\n",
    "        load_in_4bit=True,\n",
    "        bnb_4bit_use_double_quant=True,\n",
    "        bnb_4bit_quant_type=\"nf4\",\n",
    "        bnb_4bit_compute_dtype=torch.bfloat16\n",
    "    )\n",
    "\n",
    "    model_id = \"mistralai/Mistral-7B-Instruct-v0.1\"\n",
    "    sharded_model = \"filipealmeida/Mistral-7B-Instruct-v0.1-sharded\"\n",
    "\n",
    "    tokenizer = AutoTokenizer.from_pretrained(model_id, token=True)\n",
    "    model = AutoModelForCausalLM.from_pretrained(\n",
    "        sharded_model,\n",
    "        trust_remote_code=True,\n",
    "        quantization_config=bitsquant_config,\n",
    "        device_map=\"auto\",\n",
    "        token=True,\n",
    "    )\n",
    "\n",
    "    text_gen_pipeline = transformers.pipeline(\n",
    "        model=model,\n",
    "        tokenizer=tokenizer,\n",
    "        task=\"text-generation\",\n",
    "        temperature=0.85,\n",
    "        eos_token_id=tokenizer.eos_token_id,\n",
    "        pad_token_id=tokenizer.eos_token_id,\n",
    "        repetition_penalty=1.1,\n",
    "        return_full_text=True,\n",
    "        max_new_tokens=256,\n",
    "        device_map=\"auto\"\n",
    "    )\n",
    "\n",
    "    mistral_llm = HuggingFacePipeline(pipeline=text_gen_pipeline)\n",
    "\n",
    "    quick_test = \"Who is MistralAI? Please write an essay\"\n",
    "    ans = mistral_llm.invoke(quick_test)\n",
    "    print(ans)"
   ]
  },
  {
   "cell_type": "code",
   "execution_count": null,
   "id": "28efd489-a6df-4e56-9139-cf12238cd58e",
   "metadata": {},
   "outputs": [],
   "source": [
    "chain = load_summarize_chain(mistral_llm, chain_type=\"map_reduce"
   ]
  }
 ],
 "metadata": {
  "kernelspec": {
   "display_name": "Python 3 (ipykernel)",
   "language": "python",
   "name": "python3"
  },
  "language_info": {
   "codemirror_mode": {
    "name": "ipython",
    "version": 3
   },
   "file_extension": ".py",
   "mimetype": "text/x-python",
   "name": "python",
   "nbconvert_exporter": "python",
   "pygments_lexer": "ipython3",
   "version": "3.10.0"
  }
 },
 "nbformat": 4,
 "nbformat_minor": 5
}
