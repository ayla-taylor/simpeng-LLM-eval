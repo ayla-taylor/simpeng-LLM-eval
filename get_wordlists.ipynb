{
 "cells": [
  {
   "cell_type": "code",
   "execution_count": 1,
   "id": "e0376c4d-c492-4607-a922-2e461195971c",
   "metadata": {},
   "outputs": [],
   "source": [
    "import wikipediaapi\n",
    "from collections import defaultdict\n",
    "import json\n",
    "import spacy\n",
    "from get_wikidata import create_wordlists\n",
    "\n",
    "nlp = spacy.load(\"en_core_web_sm\")"
   ]
  },
  {
   "cell_type": "code",
   "execution_count": 2,
   "id": "e174b9a3-c36a-4754-8e85-c40d4e491b9f",
   "metadata": {},
   "outputs": [
    {
     "name": "stderr",
     "output_type": "stream",
     "text": [
      "Used language 'simple' is longer than 5. It is suspicious\n"
     ]
    }
   ],
   "source": [
    "user_agent = 'Summary Comparison (taylor.ayla@protonmail.com)'\n",
    "\n",
    "word_lists = create_wordlists(user_agent)\n"
   ]
  },
  {
   "cell_type": "code",
   "execution_count": 7,
   "id": "24701c49-71b1-4f91-b980-20c185171ce3",
   "metadata": {},
   "outputs": [
    {
     "name": "stdout",
     "output_type": "stream",
     "text": [
      "centi-\n",
      "deci-\n",
      "kilo-\n",
      "micro-\n",
      "milli-\n"
     ]
    }
   ],
   "source": [
    "for wordlist_name, words in word_lists.items(): \n",
    "    for word in words:\n",
    "        if \"-\" == word[-1]:\n",
    "            print(word)"
   ]
  },
  {
   "cell_type": "code",
   "execution_count": 3,
   "id": "6521a8d3-4023-4a63-a458-8c5e78e00291",
   "metadata": {},
   "outputs": [
    {
     "data": {
      "text/plain": [
       "2019"
      ]
     },
     "execution_count": 3,
     "metadata": {},
     "output_type": "execute_result"
    }
   ],
   "source": [
    "all_words = set()\n",
    "for wordlist_name, words in word_lists.items():\n",
    "    for word in words: \n",
    "        if \"(\" in word:\n",
    "            word = word.split(\"(\")[0].strip()\n",
    "        all_words.add(word)\n",
    "len(all_words)"
   ]
  },
  {
   "cell_type": "code",
   "execution_count": 4,
   "id": "8dbdb502-06a0-4efd-af00-0c4f09ee619d",
   "metadata": {},
   "outputs": [
    {
     "name": "stdout",
     "output_type": "stream",
     "text": [
      "Basic: 858\n",
      "International: 205\n",
      "Addendum: 660\n",
      "Compound: 215\n",
      "Endings: 91\n"
     ]
    }
   ],
   "source": [
    "for wordlist, words in word_lists.items():\n",
    "    print(f\"{wordlist}: {len(words)}\")"
   ]
  },
  {
   "cell_type": "code",
   "execution_count": 8,
   "id": "2a02f00c-3b17-4478-a3c1-542b70c20884",
   "metadata": {},
   "outputs": [],
   "source": [
    "with open(\"word_lists.json\", \"r\") as file: \n",
    "    word_lists = json.load(file)"
   ]
  },
  {
   "cell_type": "code",
   "execution_count": 10,
   "id": "2c4eba05-a064-4327-a36b-f5a6d2e08c7e",
   "metadata": {},
   "outputs": [],
   "source": [
    "for wordlist_name, words in word_lists.items(): \n",
    "    for word in words:\n",
    "            print(word)"
   ]
  },
  {
   "cell_type": "code",
   "execution_count": null,
   "id": "bebea974-d750-4ac7-9c59-c287ee6d69b9",
   "metadata": {},
   "outputs": [],
   "source": []
  }
 ],
 "metadata": {
  "kernelspec": {
   "display_name": "Python 3 (ipykernel)",
   "language": "python",
   "name": "python3"
  },
  "language_info": {
   "codemirror_mode": {
    "name": "ipython",
    "version": 3
   },
   "file_extension": ".py",
   "mimetype": "text/x-python",
   "name": "python",
   "nbconvert_exporter": "python",
   "pygments_lexer": "ipython3",
   "version": "3.10.0"
  }
 },
 "nbformat": 4,
 "nbformat_minor": 5
}
