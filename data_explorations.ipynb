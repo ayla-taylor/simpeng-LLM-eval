{
 "cells": [
  {
   "cell_type": "code",
   "execution_count": 1,
   "id": "8cc07c97-db7e-4d7d-be04-06bcd454196c",
   "metadata": {},
   "outputs": [],
   "source": [
    "import wikipediaapi\n",
    "from collections import defaultdict\n",
    "import json\n",
    "import spacy\n",
    "\n",
    "nlp = spacy.load(\"en_core_web_sm\")"
   ]
  },
  {
   "cell_type": "code",
   "execution_count": 2,
   "id": "102132a1-2f0d-4efe-8b6c-deffd0a58f18",
   "metadata": {},
   "outputs": [
    {
     "name": "stderr",
     "output_type": "stream",
     "text": [
      "Used language 'simple' is longer than 5. It is suspicious\n"
     ]
    }
   ],
   "source": [
    "wiki_simple = wikipediaapi.Wikipedia(user_agent='Summary Comparison (taylor.ayla@protonmail.com)', language='simple')\n",
    "\n"
   ]
  },
  {
   "cell_type": "code",
   "execution_count": 3,
   "id": "72cd5194-a7e5-4175-aea6-d45995c56000",
   "metadata": {},
   "outputs": [
    {
     "name": "stdout",
     "output_type": "stream",
     "text": [
      "Python is an open-source programming language. It was made as a language that is both easy to work on and understand. It was made by a Dutch programmer named Guido van Rossum in 1991, who named it after the television program Monty Python's Flying Circus.\n",
      "Python is an interpreted language. This means it does not need to be compiled before running. A program called an interpreter runs Python code on almost any computer. So, a programmer can change the code and quickly see what happens. But this also makes Python slower than compiled languages like C, because it is not changed into machine code before running. Instead, this happens while the program is running.\n"
     ]
    }
   ],
   "source": [
    "simple_page = wiki_simple.page('Python_(programming_language)')\n",
    "print(simple_page.summary)"
   ]
  },
  {
   "cell_type": "code",
   "execution_count": 4,
   "id": "5347366e-02e2-4167-ae1b-d54464481aea",
   "metadata": {},
   "outputs": [],
   "source": [
    "wiki_regular = wikipediaapi.Wikipedia(user_agent='Summary Comparison (taylor.ayla@protonmail.com)', language='en')\n"
   ]
  },
  {
   "cell_type": "code",
   "execution_count": 5,
   "id": "1e2f6c2b-d863-4778-b783-8981122e134d",
   "metadata": {},
   "outputs": [
    {
     "name": "stdout",
     "output_type": "stream",
     "text": [
      "Python is a high-level, general-purpose programming language. Its design philosophy emphasizes code readability with the use of significant indentation.\n",
      "Python is dynamically type-checked and garbage-collected. It supports multiple programming paradigms, including structured (particularly procedural), object-oriented and functional programming. It is often described as a \"batteries included\" language due to its comprehensive standard library.\n",
      "Guido van Rossum began working on Python in the late 1980s as a successor to the ABC programming language, and he first released it in 1991 as Python 0.9.0. Python 2.0 was released in 2000. Python 3.0, released in 2008, was a major revision not completely backward-compatible with earlier versions. Python 2.7.18, released in 2020, was the last release of Python 2.\n",
      "Python consistently ranks as one of the most popular programming languages, and it has gained widespread use in the machine learning community.\n"
     ]
    }
   ],
   "source": [
    "regular_page = wiki_regular.page('Python_(programming_language)')\n",
    "print(regular_page.summary)"
   ]
  },
  {
   "cell_type": "code",
   "execution_count": 6,
   "id": "671f6e43-53f2-4748-8c12-b88a0ca74ed4",
   "metadata": {},
   "outputs": [
    {
     "name": "stdout",
     "output_type": "stream",
     "text": [
      "This is the maximum Basic English combined wordlist. It is what the advanced student will know when moving from Basic English to the standard English language. So any student who knows all of these words has gone far beyond Basic English.\n",
      "It actually contains well over 2,600 words and combines five separate word lists:\n",
      "\n",
      "850 Basic English words.\n",
      "179 international words:\n",
      "50 international nouns.\n",
      "12 names of sciences.\n",
      "12 title and organizational names.\n",
      "50 general utility.\n",
      "5 onomatopoeic (sounds like) words.\n",
      "50 words about time and numbers.\n",
      "1293 words used as an addendum, more words for a better understanding.\n",
      "215 compound words (made up of Basic English words).\n",
      "91 new words made from adding the allowed endings: -er, -ed, -ing, -ly, -s, and the prefix un-.\n",
      "Total: 2626 words.\n",
      "\n",
      "Basic: a • able • about • account • acid • across • act • addition • adjustment • advertisement • agreement • after • again • against • air • all • almost • among • amount • amusement • angle • animal • answer • and • angry • ant • any • apparatus • apple • approval • arch • argument • arm • army • art • as • at • attack • attempt • attention • attraction • authority • automatic • awake\n",
      "International: alcohol • algebra • aluminium • ammonia • anesthetic • April • arithmetic • asbestos • August • autobus • automobile\n",
      "Addendum: absence • absorption • acceleration • acceptance • accessory • accident • active • address • adjacent • adventure • advice • age • agent • agency • ago • allowance • along • also • alternative • always • ambition • amplitude • anchor • ankle • appendage • application • approximation • arbitration • arbitrary • arc • area • arrangement • ash • asset • assistant • average • awkward • axis\n",
      "Compound: afterthought • airplane • another • anybody • anyhow • anyone • anything • anywhere\n",
      "Endings: actor • acting\n",
      "\n",
      "Basic: baby • back • bad • bag • balance • ball • band • base • basin • basket • bath • be • beautiful • because • bed • bee • before • behavior • belief • bell • bent • berry • between • bird • birth • bit • bite • bitter • black • blade • blood • blow • blue • board • boat • body • bone • book • boot • boiling • bottle • box • boy • brain • brake • branch • brass • bread • breath • brick • bridge • bright • broken • brother • brown • brush • bucket • building • bulb • button • burn • burst • business • but • butter • by\n",
      "International: ballet • bang • bank • bar • beef • beer • biology • bomb\n",
      "Addendum: balcony • bale • bankrupt • bark • barrel • beak • beaker • beard • beat • behind • belt • bet • bill • birefringence • blame • blanket • both • bottom • brave • break • breakfast • breast • broker • bubble • bud • budget • buoyancy • bunch • burial • busy\n",
      "Compound: backbone • backwoods • become • bedroom • beeswax • birthday • birthright • blackberry • blackbird • blackboard • bloodvessel • bluebell • bookkeeper • brushwood • buttercup\n",
      "Endings: basing • based • builder • burner • burned • burning\n",
      "\n",
      "Basic: cake • camera • canvas • card • care • carriage • cart • cat • cause • certain • chain • chalk • chance • change • cheap • cheese • chemical • chest • chief • chin • church • circle • cloth • clean • clear • clock • cloud • coal • coat • cold • collar • color • comb • come • comfort • committee • common • company • comparison • competition • complete • complex • condition • connection • conscious • control • cook • copper • copy • cord • cork • cotton • cough • country • cover • cow • crack • credit • crime • cruel • crush • cry • cup • current • curtain • curve • cushion • cut\n",
      "International: cafe • calendar • catarrh • centi- • champagne • chauffeur • check • chemist • chemistry • chocolate • chorus • cigarette • circus • citron • club • cocktail • coffee • cognac • college • colony\n",
      "Addendum: calculation • call • capacity • capital • carpet • cartilage • case • cast • cave • cavity • cell • ceremony • certificate • chair • character • charge • child • chimney • china • choice • circulation • circuit • circumference • civilization • clay • claim • claw • cleavage • clever • client • climber • clip • code • coil • collision • collection • column • combination • combine • communications • complaint • component • compound • concept • concrete • conductor • congruent • conservation • consignment • constant • consumer • continuous • contour • convenient • conversion • cool • corner • correlation • corrosion • cost • court • creeper • crop • cross • cunning • cusp • customs\n",
      "Compound: cardboard • carefree • caretaker • clockwork • commonsense • copyright • cupboard\n",
      "Endings: carter • clothier • clothing • cooker • cooked • cooking • crying\n",
      "\n",
      "Basic: damage • danger • dark • daughter • day • dead • dear • death • debt • decision • deep • degree • delicate • dependent • design • desire • destruction • detail • development • different • digestion • direction • dirty • discovery • discussion • disease • disgust • distance • distribution • division • do • dog • door • down • doubt • drain • drawer • dress • drink • driving • drop • dry • dust\n",
      "International: dance • December • deci- • degree • Dominion • dynamite\n",
      "Addendum: damping • date • debit • deck • decrease • defect • deficiency • deflation • degenerate • delivery • demand • denominator • department • desert • density • deposit • determining • dew • diameter • difference • difficulty • drift • dike • dilution • dinner • dip • direct • disappearance • discharge • discount • disgrace • dislike • dissipation • disturbance • ditch • dive • divisor • divorce • doll • domesticating • dreadful • dream • duct • dull • duty\n",
      "Compound: daylight • downfall\n",
      "Endings: dancer • dancing (to) • designer • dressing (up) • driver • dropped • dropper • duster\n",
      "\n",
      "Basic: ear • early • earth • east • edge • education • effect • egg • elastic • electric • end • engine • enough • equal • error • even • event • ever • every • example • exchange • existence • expansion • experience • expert • eye\n",
      "International: eight • electricity • eleven • Embassy • Empire • encyclopedia • engineer\n",
      "Addendum: each • easy • economy • efficiency • effort • either • elimination • employer • empty • enemy • envelope • environment • envy • equation • erosion • eruption • evaporation • evening • exact • excitement • experiment • exercise • explanation • explosion • export • expression • extinction • eyebrow • eyelash\n",
      "Compound: earring • earthwork • evergreen • everybody • everyday • everyone • everything • everywhere • eyeball\n",
      "\n",
      "Basic: face • fact • fall • false • family • far • farm • fat • father • fear • feather • feeble • feeling • female • fertile • fiction • field • fight • finger • fire • first • fish • fixed • flag • flame • flat • flight • floor • flower • fly • fold • food • foolish • foot • for • force • fork • form • forward • fowl • frame • free • frequent • friend • from • front • fruit • full • future\n",
      "International: February • fifteen • fifth • fifty • five • four • fourteen • fourth • forty • Friday\n",
      "Addendum: factor • failure • fair • famous • fan • fastening • fault • ferment • fertilizing • fever • fiber • figure • fin • financial • flash • flask • flesh • flint • flood • flour • flow • focus • foliation • forecast • forehead • foreign • forgiveness • fraction • fracture • fresh • friction • frost • frozen • fume • funnel • funny • fur • furnace • furniture • fusion\n",
      "Compound: fatherland • fingerprint • firearm • fire-engine • firefly • fireman • fireplace • firework • first-rate • football • footlights • footman • footnote • footprint • footstep\n",
      "Endings: farmer • fisher/fisherman • folder • fired • firing\n",
      "\n",
      "Basic: garden • general • get • girl • give • glass • glove • go • goat • gold • good • government • grain • grass • great • green • grey/gray • grip • group • growth • guide • gun\n",
      "International: gas • geography • geology • geometry • gram • glycerin\n",
      "Addendum: gate • generation • germ • germinating • gill • glacier • gland • god • grand • grateful • grating • gravel • grease • grief • grocery • groove • gross • ground • guard • guarantee • guess • gum\n",
      "Compound: gasworks • goldfish • goodlooking • good-morning • goodnight • gunboat • gun-carriage • gunmetal • gunpowder\n",
      "Endings: gardener\n",
      "\n",
      "Basic: hair • hammer • hand • hanging • happy • harbor • hard • harmony • hat • hate • have • he • head • healthy • hearing • heart • heat • help • here • high • history • hole • hollow • hook • hope • horn • horse • hospital • hour • house • how • humor\n",
      "International: half • hiss • hotel • hundred • hyena • hygiene • hysteria\n",
      "Addendum: habit • handkerchief • handle • heavy • hedge • hill • hinge • hire • hold • holiday • home • honest • honey • hoof • host • human • hunt • hurry • hurt • husband\n",
      "Compound: handbook • handwriting • headdress • headland • headstone • headway • hereafter • herewith • highlands • highway • himself • horseplay • horsepower • hourglass • houseboat • housekeeper • however\n",
      "Endings: hanger • heater • heated • heating\n",
      "\n",
      "Basic: I • ice • idea • if • ill • important • impulse • in • increase • industry • ink • insect • instrument • insurance • interest • invention • iron • island\n",
      "International: Imperial • inferno • influenza • international\n",
      "Addendum: igneous • image • imagination • import • impurity • inclusion • index • individual • inflation • infinity • inheritance • innocent • institution • insulator • integer • intelligent • intercept • interpretation • intersection • intrusion • investigation • investment • inverse • invitation\n",
      "Compound: inasmuch • income • indoors • inland • inlet • input • inside • instep • into • itself\n",
      "Endings: inner\n",
      "\n",
      "Basic: jelly • jewel • join • journey • judge • jump\n",
      "International: January • jazz • July • June\n",
      "Addendum: jam • jaw • jealous • jerk • joint • jug • juice • jury • justice\n",
      "Endings: jeweler • joiner\n",
      "\n",
      "Basic: keep • kettle • key • kick • kind • kiss • knee • knife • knot • knowledge\n",
      "International: kilo- • king\n",
      "Addendum: kennel • kidney • kitchen • knock\n",
      "Endings: keeper\n",
      "\n",
      "Basic: land • language • last • late • laugh • law • lead • leaf • learning • least • leather • leg • less • left • let • letter • level • library • lift • light • like • limit • line • linen • lip • liquid • list • little • living • lock • long • look • loose • loss • loud • love • low\n",
      "International: latitude • lava • liter • liqueur • longitude\n",
      "Addendum: lace • lag • lake • lame • lamp • large • latitude • lawyer • layer • lazy • lecture • legal • length • lens • lesson • lever • liability • license • lid • life • lime • limestone • link • liver • load • local • loan • locus • longitude • luck • lump • lunch • lung\n",
      "Compound: landmark • landslip • lighthouse • looking-glass\n",
      "Endings: laughing (at) • learner • locker • locking (up)\n",
      "\n",
      "Basic: machine • man • manager • make • male • map • mark • market • married • match • material • mass • may • meal • measure • meat • medical • meeting • memory • metal • middle • military • milk • mind • mine • minute • mist • mixed • money • monkey • month • moon • more • morning • most • mother • motion • mountain • mouth • move • much • muscle • music\n",
      "International: macaroni • madam • magnetic • malaria • mania • March • mathematics • May • meter • meow • micro- • microscope • milli- • million • minute • Monday • museum\n",
      "Addendum: magic • magnitude • manner • many • marble • margin • marriage • mast • mattress • mature • mean • meaning • medicine • medium • melt • member • mess • message • metabolism • mill • mineral • mixture • model • modern • modest • momentum • monopoly • mood • moral • moustache • mud • multiple • multiplication • murder\n",
      "Compound: manhole • myself\n",
      "Endings: marked • miner\n",
      "\n",
      "Basic: nail • name • narrow • nation • natural • near • necessary • neck • need • needle • nerve • net • new • news • night • no • noise • normal • north • nose • not • note • now • number • nut\n",
      "International: neutron • nickel • nicotine • nine • November\n",
      "Addendum: nasty • nature • navy • neat • neglect • neighbor • nest • next • nice • node • nostril • nucleus • numerator • nurse\n",
      "Compound: network • newspaper • nobody • nothing • nowhere\n",
      "Endings: nearer • noted\n",
      "\n",
      "Basic: observation • of • off • offer • office • oil • old • on • only • open • operation • opinion • opposite • or • orange • order • organization • ornament • other • out • oven • over • owner\n",
      "International: October • olive • once • omelet • one • opera • opium • orchestra • organism\n",
      "Addendum: obedient • officer • orchestra • ore • organ • origin • outcrop • outlier • overlap • oval • own • oxidation\n",
      "Compound: offspring • oncoming • oneself • onlooker • onto • outburst • outcome • outcry • outdoor • outgoing • outhouse • outlaw • outlet • outline • outlook • output • outside • outskirts • outstretched • overacting • overall • overbalancing • overbearing • overcoat • overcome • overdo • overdressed • overfull • overhanging • overhead • overland • overleaf • overloud • overseas • overseer • overshoe • overstatement • overtake • overtaxed • overtime • overturned • overuse • overvalued • overweight • overworking\n",
      "Endings: outer\n",
      "\n",
      "Basic: page • pain • paint • paper • parallel • parcel • part • past • paste • payment • peace • pen • pencil • person • physical • picture • pig • pin • pipe • place • plane • plant • plate • play • please • pleasure • plough/plow • pocket • point • poison • polish • political • poor • porter • position • possible • pot • potato • powder • power • present • price • print • prison • private • probable • process • produce • profit • property • prose • protest • public • pull • pump • punishment • purpose • push • put\n",
      "International: pajamas • paraffin • paradise • park • passport • patent • penguin • petroleum • phonograph • Physics • Physiology • piano • platinum • police • post • potash • President • Prince • Princess • program • propaganda • Psychology • Purr • pyramid\n",
      "Addendum: packing • pad • pair • pan • paragraph • parent • particle • partner • party • passage • path • patience • pedal • pendulum • pension • people • perfect • petal • piston • plain • plan • plaster • plug • poetry • pollen • pool • population • porcelain • practice • praise • prayer • pressure • prick • priest • prime • probability • product • progress • projectile • projection • promise • proof • proud • pulley • pupil • purchase • pure\n",
      "Compound: pincushion • plaything • policeman • postman • postmark • postmaster • postoffice\n",
      "Endings: painter • painting • parting • playing • played • pleased (with) • pointer • pointing (at) • potter • printer • prisoner • producer\n",
      "\n",
      "Basic: quality • question • quick • quiet • quite\n",
      "International: quack • quarter • queen • quinine\n",
      "Addendum: quantity • quotient\n",
      "\n",
      "Basic: rail • rain • range • rat • rate • ray • reaction • red • reading • ready • reason • receipt • record • regret • regular • relation • religion • representative • request • respect • responsible • rest • reward • rhythm • rice • right • ring • river • road • rod • roll • roof • room • root • rough • round • rub • rule • run\n",
      "International: radio • radium • referendum • restaurant • rheumatism • Royal • rum\n",
      "Addendum: race • radiation • ratio • reagent • real • receiver • reciprocal • rectangle • recurring • reference • reflux • reinforcement • relative • remark • remedy • rent • repair • reproduction • repulsion • resistance • residue • resolution • result • retail • revenge • reversible • rich • rigidity • rise • rival • rock • rot • rotation • rude • rust\n",
      "Compound: runaway\n",
      "Endings: raining • reader • reading • roller • ruler • rubber\n",
      "\n",
      "Basic: sad • safe • sail • salt • same • sand • say • scale • school • science • scissors • screw • sea • seat • second • secret • secretary • see • seed • selection • self • send • seem • sense • separate • serious • servant • sex • shade • shake • shame • sharp • sheep • shelf • ship • shirt • shock • shoe • short • shut • side • sign • silk • silver • simple • sister • size • skin • skirt • sky • sleep • slip • slope • slow • small • smash • smell • smile • smoke • smooth • snake • sneeze • snow • so • soap • society • sock • soft • solid • some • son • song • sort • sound • soup • south • space • spade • special • sponge • spoon • spring • square • stage • stamp • star • start • statement • station • steam • steel • stem • step • stick • sticky • stiff • still • stitch • stocking • stomach • stone • stop • store • story • straight • strange • street • stretch • strong • structure • substance • such • sudden • sugar • suggestion • summer • sun • support • surprise • sweet • swim • system\n",
      "International: salad • sardine • Saturday • second • September • serum • seven • sir • six • sixteen • sport • Sunday\n",
      "Addendum: sac • sale • sample • satisfaction • saturated • saucer • saving • scale • scarp • schist • scratch • screen • seal • search • security • secretion • section • sedimentary • selfish • sensitivity • sentence • sepal • service • set • shadow • shale • share • shave • shear • sheet • shell • shore • shoulder • show • sight • sill • similarity • since • skull • slate • sleeve • slide • social • soil • soldier • solution • solvent • sorry • spark • specialization • specimen • speculation • spirit • spit • splash • spot • stable • stain • stair • stalk • stamen • statistics • steady • stimulus • storm • strain • straw • stream • strength • stress • strike • string • study • subject • substitution • subtraction • success • successive • sucker • sum • supply • surface • surgeon • suspension • suspicious • swelling • swing • switch • sympathetic\n",
      "Compound: seaman • secondhand • shorthand • sideboard • sidewalk • somebody • someday • somehow • someone • something • sometime • somewhat • somewhere • suchlike • sunburn • sunlight • sunshade • sweetheart\n",
      "Endings: sailor • shocking • shocked • snowing • steamer • stopper • stopping • stopping up • stretcher\n",
      "\n",
      "Basic: table • tail • take • talk • tall • taste • tax • teaching • tendency • test • than • that • the • then • theory • there • thick • thin • thing • this • though • thought • thread • throat • through • thumb • thunder • ticket • tight • tired • till • time • tin • to • toe • together • tomorrow • tongue • tooth • top • touch • town • trade • train • transport • tray • tree • trick • trousers • true • trouble • turn • twist\n",
      "International: tapioca • taxi • tea • telegram • telephone • ten • terrace • theater • thermometer • third • thirteen • thirty • thousand • three • Thursday • toast • tobacco • torpedo • Tuesday • turbine • twenty-one • twelve • twenty • twice • two\n",
      "Addendum: tailor • tame • tap • tear • tent • term • texture • thickness • thief • thimble • thorax • threat • thrust • tide • tie • tissue • tongs • too • total • towel • tower • traffic • tragedy • transmission • transparent • trap • travel • treatment • triangle • truck • tube • tune • tunnel • twin • typist\n",
      "Compound: today • tonight • tradesman\n",
      "Endings: talking (of) • teacher • touching (up) • trader • trainer • training • troubling • troubled • turning (over)\n",
      "\n",
      "Basic: umbrella • under • unit • up • use\n",
      "International: university\n",
      "Addendum: ugly • unconformity • understanding • universe • unknown\n",
      "Compound: underclothing • undercooked • undergo • undergrowth • undermined • undersigned • undersized • understatement • undertake • undervalued • undo • upkeep • uplift • upon • upright • uptake\n",
      "Endings: used (to)\n",
      "\n",
      "Basic: value • verse • very • vessel • view • violent • voice\n",
      "International: vanilla • violin • visa • vitamin • vodka • volt\n",
      "Addendum: valency • valley • valve • vapor • variable • vascular • vegetable • velocity • vestigial • victim • victory • volume • vortex • vote\n",
      "Compound: viewpoint\n",
      "\n",
      "Basic: walk • wall • waiting • war • warm • wash • waste • watch • water • wave • wax • way • weather • week • weight • well • west • wet • what • wheel • when • where • which • while • whip • whistle • white • who • why • wide • will • wind • window • wine • wing • winter • wire • wise • with • woman • wood • wool • word • work • worm • wound • writing • wrong\n",
      "International: Wednesday • whisky\n",
      "Addendum: weak • wedge • welcome • whether • wholesale • widow • wife • wild • world • wreck • wrist\n",
      "Compound: waterfall • weekend • well-being • well-off • whatever • whenever • whereas • whereby • wherever • whichever • whitewash • whoever • windpipe • within • without • woodwork • workhouse\n",
      "Endings: waiter • worker • working (on) working (out) / working (up)  • writer • waiting • wasted\n",
      "\n",
      "Basic: year • yellow • yes • yesterday • you • young\n",
      "International: zebra • zinc • zoology\n",
      "Addendum: yawn\n",
      "Compound: x-ray • yearbook • yourself • zookeeper\n",
      "\n",
      "Wikipedia:Word frequency\n",
      "Wikipedia:Basic English alphabetical wordlist\n",
      "Commonly misspelled words - includes documented list of misspellings\n",
      "glossary - a list of words defined at the end of a document, as used there\n"
     ]
    }
   ],
   "source": [
    "simple_wordlist = wiki_simple.page('Wikipedia:Basic_English_combined_wordlist')\n",
    "print(simple_wordlist.summary)"
   ]
  },
  {
   "cell_type": "code",
   "execution_count": 7,
   "id": "bf123edd-6a0b-4fc5-9261-b3a2253ed90b",
   "metadata": {},
   "outputs": [],
   "source": [
    "word_sections = defaultdict(list)\n",
    "for line in simple_wordlist.text.split(\"\\n\"):\n",
    "    section = line.split(\":\")\n",
    "    if section[0].lower() in [\"basic\", \"international\", \"addendum\", \"compound\", \"endings\"]:\n",
    "        word_sections[section[0]].append(section[1])"
   ]
  },
  {
   "cell_type": "code",
   "execution_count": 8,
   "id": "c0a30f37-7c51-4f2a-b986-4c08275f2c84",
   "metadata": {
    "scrolled": true
   },
   "outputs": [
    {
     "name": "stdout",
     "output_type": "stream",
     "text": [
      "Basic a 44\n",
      "Basic b 66\n",
      "Basic c 68\n",
      "Basic d 43\n",
      "Basic e 26\n",
      "Basic f 49\n",
      "Basic g 22\n",
      "Basic h 32\n",
      "Basic I 18\n",
      "Basic j 6\n",
      "Basic k 10\n",
      "Basic l 37\n",
      "Basic m 43\n",
      "Basic n 25\n",
      "Basic o 23\n",
      "Basic p 59\n",
      "Basic q 5\n",
      "Basic r 39\n",
      "Basic s 122\n",
      "Basic t 53\n",
      "Basic u 5\n",
      "Basic v 7\n",
      "Basic w 48\n",
      "Basic y 6\n",
      "Basic 856\n",
      "International a 11\n",
      "International b 8\n",
      "International c 20\n",
      "International d 6\n",
      "International e 7\n",
      "International F 10\n",
      "International g 6\n",
      "International h 7\n",
      "International I 4\n",
      "International J 4\n",
      "International k 2\n",
      "International l 5\n",
      "International m 17\n",
      "International n 5\n",
      "International O 9\n",
      "International p 24\n",
      "International q 4\n",
      "International r 7\n",
      "International s 12\n",
      "International t 25\n",
      "International u 1\n",
      "International v 6\n",
      "International W 2\n",
      "International z 3\n",
      "International 205\n",
      "Addendum a 38\n",
      "Addendum b 30\n",
      "Addendum c 67\n",
      "Addendum d 45\n",
      "Addendum e 29\n",
      "Addendum f 40\n",
      "Addendum g 22\n",
      "Addendum h 20\n",
      "Addendum i 24\n",
      "Addendum j 9\n",
      "Addendum k 4\n",
      "Addendum l 33\n",
      "Addendum m 34\n",
      "Addendum n 14\n",
      "Addendum o 12\n",
      "Addendum p 47\n",
      "Addendum q 2\n",
      "Addendum r 35\n",
      "Addendum s 89\n",
      "Addendum t 35\n",
      "Addendum u 5\n",
      "Addendum v 14\n",
      "Addendum w 11\n",
      "Addendum y 1\n",
      "Addendum 660\n",
      "Compound a 8\n",
      "Compound b 15\n",
      "Compound c 7\n",
      "Compound d 2\n",
      "Compound e 9\n",
      "Compound f 15\n",
      "Compound g 9\n",
      "Compound h 17\n",
      "Compound i 10\n",
      "Compound l 4\n",
      "Compound m 2\n",
      "Compound n 5\n",
      "Compound o 45\n",
      "Compound p 7\n",
      "Compound r 1\n",
      "Compound s 18\n",
      "Compound t 3\n",
      "Compound u 16\n",
      "Compound v 1\n",
      "Compound w 17\n",
      "Compound x 4\n",
      "Compound 215\n",
      "Endings a 2\n",
      "Endings b 6\n",
      "Endings c 7\n",
      "Endings d 8\n",
      "Endings f 5\n",
      "Endings g 1\n",
      "Endings h 4\n",
      "Endings i 1\n",
      "Endings j 2\n",
      "Endings k 1\n",
      "Endings l 4\n",
      "Endings m 2\n",
      "Endings n 2\n",
      "Endings o 1\n",
      "Endings p 12\n",
      "Endings r 6\n",
      "Endings s 9\n",
      "Endings t 9\n",
      "Endings u 1\n",
      "Endings w 6\n",
      "Endings 89\n"
     ]
    }
   ],
   "source": [
    "word_lists = {}\n",
    "for section, lists in word_sections.items():\n",
    "    section_list = []\n",
    "    for words in lists:\n",
    "        ascii_list = words.encode(encoding=\"ascii\", errors=\"replace\").decode(\"ascii\").split(\"?\")\n",
    "        print(section, ascii_list[0][1], len(ascii_list))\n",
    "        section_list += [word.strip() for word in ascii_list]\n",
    "    print(section, len(section_list))\n",
    "    word_lists[section] = section_list"
   ]
  },
  {
   "cell_type": "code",
   "execution_count": 9,
   "id": "867ebe4a-1369-4b04-910f-a8bc14c1addb",
   "metadata": {},
   "outputs": [
    {
     "name": "stdout",
     "output_type": "stream",
     "text": [
      "Basic: 856\n",
      "International: 205\n",
      "Addendum: 660\n",
      "Compound: 215\n",
      "Endings: 89\n"
     ]
    }
   ],
   "source": [
    "for wordlist, words in word_lists.items():\n",
    "    print(f\"{wordlist}: {len(words)}\")"
   ]
  },
  {
   "cell_type": "code",
   "execution_count": 10,
   "id": "74d24ca1-89da-4804-963a-7bc07e1b5d11",
   "metadata": {
    "scrolled": true
   },
   "outputs": [
    {
     "data": {
      "text/plain": [
       "['actor',\n",
       " 'acting',\n",
       " 'basing',\n",
       " 'based',\n",
       " 'builder',\n",
       " 'burner',\n",
       " 'burned',\n",
       " 'burning',\n",
       " 'carter',\n",
       " 'clothier',\n",
       " 'clothing',\n",
       " 'cooker',\n",
       " 'cooked',\n",
       " 'cooking',\n",
       " 'crying',\n",
       " 'dancer',\n",
       " 'dancing (to)',\n",
       " 'designer',\n",
       " 'dressing (up)',\n",
       " 'driver',\n",
       " 'dropped',\n",
       " 'dropper',\n",
       " 'duster',\n",
       " 'farmer',\n",
       " 'fisher/fisherman',\n",
       " 'folder',\n",
       " 'fired',\n",
       " 'firing',\n",
       " 'gardener',\n",
       " 'hanger',\n",
       " 'heater',\n",
       " 'heated',\n",
       " 'heating',\n",
       " 'inner',\n",
       " 'jeweler',\n",
       " 'joiner',\n",
       " 'keeper',\n",
       " 'laughing (at)',\n",
       " 'learner',\n",
       " 'locker',\n",
       " 'locking (up)',\n",
       " 'marked',\n",
       " 'miner',\n",
       " 'nearer',\n",
       " 'noted',\n",
       " 'outer',\n",
       " 'painter',\n",
       " 'painting',\n",
       " 'parting',\n",
       " 'playing',\n",
       " 'played',\n",
       " 'pleased (with)',\n",
       " 'pointer',\n",
       " 'pointing (at)',\n",
       " 'potter',\n",
       " 'printer',\n",
       " 'prisoner',\n",
       " 'producer',\n",
       " 'raining',\n",
       " 'reader',\n",
       " 'reading',\n",
       " 'roller',\n",
       " 'ruler',\n",
       " 'rubber',\n",
       " 'sailor',\n",
       " 'shocking',\n",
       " 'shocked',\n",
       " 'snowing',\n",
       " 'steamer',\n",
       " 'stopper',\n",
       " 'stopping',\n",
       " 'stopping up',\n",
       " 'stretcher',\n",
       " 'talking (of)',\n",
       " 'teacher',\n",
       " 'touching (up)',\n",
       " 'trader',\n",
       " 'trainer',\n",
       " 'training',\n",
       " 'troubling',\n",
       " 'troubled',\n",
       " 'turning (over)',\n",
       " 'used (to)',\n",
       " 'waiter',\n",
       " 'worker',\n",
       " 'working (on) working (out) / working (up)',\n",
       " 'writer',\n",
       " 'waiting',\n",
       " 'wasted']"
      ]
     },
     "execution_count": 10,
     "metadata": {},
     "output_type": "execute_result"
    }
   ],
   "source": [
    "word_lists[\"Endings\"]"
   ]
  },
  {
   "cell_type": "code",
   "execution_count": 11,
   "id": "bd8ee370-b442-457f-945f-dc0a2786771c",
   "metadata": {},
   "outputs": [],
   "source": [
    "with open(\"word_lists.json\", \"w\") as outfile: \n",
    "    json.dump(word_lists, outfile)"
   ]
  },
  {
   "cell_type": "code",
   "execution_count": 12,
   "id": "c8d78749-296c-4b91-8b77-bc2fed8d0080",
   "metadata": {
    "scrolled": true
   },
   "outputs": [],
   "source": [
    "summary_sents = regular_page.summary.split(\".\")\n"
   ]
  },
  {
   "cell_type": "code",
   "execution_count": 13,
   "id": "52fdb3d2-18bf-46b7-872c-1aae785b4c7d",
   "metadata": {},
   "outputs": [
    {
     "name": "stdout",
     "output_type": "stream",
     "text": [
      "is\n",
      "a\n",
      "high\n",
      "level\n",
      "general\n",
      "purpose\n",
      "language\n",
      "design\n",
      "with\n",
      "the\n",
      "use\n",
      "of\n",
      "is\n",
      "and\n",
      "supports\n",
      "and\n",
      "is\n",
      "as\n",
      "a\n",
      "language\n",
      "to\n",
      "library\n",
      "working\n",
      "on\n",
      "in\n",
      "the\n",
      "late\n",
      "as\n",
      "a\n",
      "to\n",
      "the\n",
      "language\n",
      "and\n",
      "he\n",
      "first\n",
      "in\n",
      "as\n",
      "was\n",
      "in\n",
      "in\n",
      "was\n",
      "a\n",
      "not\n",
      "with\n",
      "earlier\n",
      "in\n",
      "was\n",
      "the\n",
      "last\n",
      "of\n",
      "as\n",
      "of\n",
      "the\n",
      "most\n",
      "languages\n",
      "and\n",
      "has\n",
      "use\n",
      "in\n",
      "the\n",
      "machine\n",
      "61\n"
     ]
    }
   ],
   "source": [
    "basic_word_count = 0\n",
    "for sent in summary_sents: \n",
    "    sent = sent.strip()\n",
    "    doc = nlp(sent)\n",
    "    for token in doc:\n",
    "        if token.lemma_ in word_lists[\"Basic\"]:\n",
    "            print(token.text)\n",
    "            basic_word_count += 1\n",
    "        # print(token.text, token.lemma_, token.tag_, token.dep_, token.morph)\n",
    "\n",
    "print(basic_word_count)"
   ]
  },
  {
   "cell_type": "code",
   "execution_count": 14,
   "id": "c1ad4f24-15e9-4d2c-9e81-4b1b1908067d",
   "metadata": {},
   "outputs": [],
   "source": [
    "doc = nlp(regular_page.summary)\n"
   ]
  },
  {
   "cell_type": "code",
   "execution_count": 15,
   "id": "74cc402c-0480-4f98-b97c-b30332d38e7f",
   "metadata": {},
   "outputs": [
    {
     "name": "stdout",
     "output_type": "stream",
     "text": [
      "61\n"
     ]
    }
   ],
   "source": [
    "basic_word_count = 0\n",
    "for sent in doc.sents:\n",
    "    for token in sent: \n",
    "        if token.lemma_ in word_lists[\"Basic\"]:\n",
    "            basic_word_count += 1\n",
    "print(basic_word_count)"
   ]
  },
  {
   "cell_type": "code",
   "execution_count": 16,
   "id": "40ad8174-ae3a-4c19-bb39-994b4ff88f7a",
   "metadata": {},
   "outputs": [],
   "source": [
    "from analysis import Analysis"
   ]
  },
  {
   "cell_type": "code",
   "execution_count": 17,
   "id": "dd292e07-a79c-4cb2-83a9-3ad3bce90372",
   "metadata": {},
   "outputs": [
    {
     "data": {
      "text/plain": [
       "0.3599630807096708"
      ]
     },
     "execution_count": 17,
     "metadata": {},
     "output_type": "execute_result"
    }
   ],
   "source": [
    "regular_results = Analysis(regular_page.text)\n",
    "regular_results.get_basic_rate()"
   ]
  },
  {
   "cell_type": "code",
   "execution_count": 19,
   "id": "022a6baa-29b5-4c72-8716-bc1c4136a177",
   "metadata": {},
   "outputs": [
    {
     "data": {
      "text/plain": [
       "0.4836716681376876"
      ]
     },
     "execution_count": 19,
     "metadata": {},
     "output_type": "execute_result"
    }
   ],
   "source": [
    "simple_results = Analysis(simple_page.text)\n",
    "simple_results.get_basic_rate()"
   ]
  },
  {
   "cell_type": "code",
   "execution_count": null,
   "id": "d4935514-2840-4d9e-806a-94535044668d",
   "metadata": {},
   "outputs": [],
   "source": []
  }
 ],
 "metadata": {
  "kernelspec": {
   "display_name": "Python 3 (ipykernel)",
   "language": "python",
   "name": "python3"
  },
  "language_info": {
   "codemirror_mode": {
    "name": "ipython",
    "version": 3
   },
   "file_extension": ".py",
   "mimetype": "text/x-python",
   "name": "python",
   "nbconvert_exporter": "python",
   "pygments_lexer": "ipython3",
   "version": "3.10.0"
  }
 },
 "nbformat": 4,
 "nbformat_minor": 5
}
